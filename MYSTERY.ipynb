{
 "cells": [
  {
   "cell_type": "markdown",
   "id": "ebb94371",
   "metadata": {},
   "source": [
    "# SQL Murder Mystery\n",
    "\n",
    "## Can you find out whodunnit?\n",
    "\n",
    "![A decorative illustration of a detective looking at an evidence board.](https://mystery.knightlab.com/174092-clue-illustration.png)\n",
    "\n",
    "There's been a Murder in SQL City! The SQL Murder Mystery is designed to be both a self-directed lesson to learn SQL concepts and commands and a fun game for experienced SQL users to solve an intriguing crime.\n",
    "\n",
    "## SQL sleuths start here\n",
    "\n",
    "A crime has taken place and the detective needs your help. The detective gave you the crime scene report, but you somehow lost it. You vaguely remember that the crime was a **​murder​**that occurred sometime on ​**Jan.15, 2018​** and that it took place in ​**SQL City​**. Start by retrieving the corresponding crime scene report from the police department’s database.\n",
    "\n",
    "### Exploring the Database Structure\n",
    "\n",
    "Experienced SQL users can often use database queries to infer the structure of a database. But each database system has different ways of managing this information. The SQL Murder Mystery is built using SQLite. Use this SQL command to find the tables in the Murder Mystery database.\n",
    "\n",
    "Run this query to find the names of the tables in this database.\n",
    "\n",
    "This command is specific to SQLite. For other databases, you'll have to learn their specific syntax.\n"
   ]
  },
  {
   "cell_type": "code",
   "execution_count": 3,
   "id": "1370e6a4",
   "metadata": {},
   "outputs": [
    {
     "name": "stdout",
     "output_type": "stream",
     "text": [
      "Note: you may need to restart the kernel to use updated packages.\n",
      "The sql extension is already loaded. To reload it, use:\n",
      "  %reload_ext sql\n"
     ]
    }
   ],
   "source": [
    "# Install required packages\n",
    "%pip install jupysql sqlalchemy pandas --quiet\n",
    "\n",
    "# Load SQL magic\n",
    "%load_ext sql\n",
    "\n",
    "# Connect to the database\n",
    "%sql sqlite:///sql-murder-mystery.db\n",
    "#%config SqlMagic.style = 'table'"
   ]
  },
  {
   "cell_type": "code",
   "execution_count": 4,
   "id": "2f0d9254",
   "metadata": {},
   "outputs": [
    {
     "data": {
      "text/html": [
       "<span style=\"None\">Running query in &#x27;sqlite:///sql-murder-mystery.db&#x27;</span>"
      ],
      "text/plain": [
       "Running query in 'sqlite:///sql-murder-mystery.db'"
      ]
     },
     "metadata": {},
     "output_type": "display_data"
    },
    {
     "data": {
      "text/html": [
       "<table>\n",
       "    <thead>\n",
       "        <tr>\n",
       "            <th>name</th>\n",
       "        </tr>\n",
       "    </thead>\n",
       "    <tbody>\n",
       "        <tr>\n",
       "            <td>crime_scene_report</td>\n",
       "        </tr>\n",
       "        <tr>\n",
       "            <td>drivers_license</td>\n",
       "        </tr>\n",
       "        <tr>\n",
       "            <td>facebook_event_checkin</td>\n",
       "        </tr>\n",
       "        <tr>\n",
       "            <td>interview</td>\n",
       "        </tr>\n",
       "        <tr>\n",
       "            <td>get_fit_now_member</td>\n",
       "        </tr>\n",
       "        <tr>\n",
       "            <td>sqlite_autoindex_get_fit_now_member_1</td>\n",
       "        </tr>\n",
       "        <tr>\n",
       "            <td>get_fit_now_check_in</td>\n",
       "        </tr>\n",
       "        <tr>\n",
       "            <td>solution</td>\n",
       "        </tr>\n",
       "        <tr>\n",
       "            <td>check_solution</td>\n",
       "        </tr>\n",
       "        <tr>\n",
       "            <td>income</td>\n",
       "        </tr>\n",
       "    </tbody>\n",
       "</table>\n",
       "<span style=\"font-style:italic;text-align:center;\">Truncated to <a href=\"https://jupysql.ploomber.io/en/latest/api/configuration.html#displaylimit\">displaylimit</a> of 10.</span>"
      ],
      "text/plain": [
       "+---------------------------------------+\n",
       "|                  name                 |\n",
       "+---------------------------------------+\n",
       "|           crime_scene_report          |\n",
       "|            drivers_license            |\n",
       "|         facebook_event_checkin        |\n",
       "|               interview               |\n",
       "|           get_fit_now_member          |\n",
       "| sqlite_autoindex_get_fit_now_member_1 |\n",
       "|          get_fit_now_check_in         |\n",
       "|                solution               |\n",
       "|             check_solution            |\n",
       "|                 income                |\n",
       "+---------------------------------------+\n",
       "Truncated to displaylimit of 10."
      ]
     },
     "execution_count": 4,
     "metadata": {},
     "output_type": "execute_result"
    }
   ],
   "source": [
    "%%sql\n",
    "SELECT name\n",
    "FROM sqlite_master"
   ]
  },
  {
   "cell_type": "markdown",
   "id": "c71b53aa",
   "metadata": {},
   "source": [
    "\n",
    "Besides knowing the table names, you need to know how each table is structured. The way this works is also dependent upon which database technology you use. Here's how you do it with SQLite.\n",
    "\n",
    "Run this query to find the structure of the `crime_scene_report` table\n",
    "\n",
    "Change the value of 'name' to see the structure of the other tables you learned about with the previous query.\n"
   ]
  },
  {
   "cell_type": "code",
   "execution_count": 5,
   "id": "a977d922",
   "metadata": {},
   "outputs": [
    {
     "data": {
      "text/html": [
       "<span style=\"None\">Running query in &#x27;sqlite:///sql-murder-mystery.db&#x27;</span>"
      ],
      "text/plain": [
       "Running query in 'sqlite:///sql-murder-mystery.db'"
      ]
     },
     "metadata": {},
     "output_type": "display_data"
    },
    {
     "data": {
      "text/html": [
       "<table>\n",
       "    <thead>\n",
       "        <tr>\n",
       "            <th>sql</th>\n",
       "        </tr>\n",
       "    </thead>\n",
       "    <tbody>\n",
       "        <tr>\n",
       "            <td>CREATE TABLE crime_scene_report (<br>        date integer,<br>        type text,<br>        description text,<br>        city text<br>    )</td>\n",
       "        </tr>\n",
       "    </tbody>\n",
       "</table>"
      ],
      "text/plain": [
       "+-----------------------------------+\n",
       "|                sql                |\n",
       "+-----------------------------------+\n",
       "| CREATE TABLE crime_scene_report ( |\n",
       "|               date integer,       |\n",
       "|                 type text,        |\n",
       "|             description text,     |\n",
       "|                 city text         |\n",
       "|                   )               |\n",
       "+-----------------------------------+"
      ]
     },
     "execution_count": 5,
     "metadata": {},
     "output_type": "execute_result"
    }
   ],
   "source": [
    "%%sql\n",
    "SELECT sql\n",
    "FROM sqlite_master\n",
    "where name = 'crime_scene_report'"
   ]
  },
  {
   "cell_type": "code",
   "execution_count": 8,
   "id": "8451b59a",
   "metadata": {},
   "outputs": [
    {
     "data": {
      "text/html": [
       "<span style=\"None\">Running query in &#x27;sqlite:///sql-murder-mystery.db&#x27;</span>"
      ],
      "text/plain": [
       "Running query in 'sqlite:///sql-murder-mystery.db'"
      ]
     },
     "metadata": {},
     "output_type": "display_data"
    },
    {
     "data": {
      "text/html": [
       "<table>\n",
       "    <thead>\n",
       "        <tr>\n",
       "            <th>sql</th>\n",
       "        </tr>\n",
       "    </thead>\n",
       "    <tbody>\n",
       "        <tr>\n",
       "            <td>CREATE TABLE drivers_license (<br>        id integer PRIMARY KEY,<br>        age integer,<br>        height integer,<br>        eye_color text,<br>        hair_color text,<br>        gender text,<br>        plate_number text,<br>        car_make text,<br>        car_model text<br>    )</td>\n",
       "        </tr>\n",
       "    </tbody>\n",
       "</table>"
      ],
      "text/plain": [
       "+---------------------------------+\n",
       "|               sql               |\n",
       "+---------------------------------+\n",
       "|  CREATE TABLE drivers_license ( |\n",
       "|         id integer PRIMARY KEY, |\n",
       "|               age integer,      |\n",
       "|             height integer,     |\n",
       "|             eye_color text,     |\n",
       "|             hair_color text,    |\n",
       "|               gender text,      |\n",
       "|            plate_number text,   |\n",
       "|              car_make text,     |\n",
       "|              car_model text     |\n",
       "|                  )              |\n",
       "+---------------------------------+"
      ]
     },
     "execution_count": 8,
     "metadata": {},
     "output_type": "execute_result"
    }
   ],
   "source": [
    "%%sql\n",
    "SELECT sql\n",
    "FROM sqlite_master\n",
    "where name = 'drivers_license'"
   ]
  },
  {
   "cell_type": "code",
   "execution_count": 9,
   "id": "dd7d1ace",
   "metadata": {},
   "outputs": [
    {
     "data": {
      "text/html": [
       "<span style=\"None\">Running query in &#x27;sqlite:///sql-murder-mystery.db&#x27;</span>"
      ],
      "text/plain": [
       "Running query in 'sqlite:///sql-murder-mystery.db'"
      ]
     },
     "metadata": {},
     "output_type": "display_data"
    },
    {
     "data": {
      "text/html": [
       "<table>\n",
       "    <thead>\n",
       "        <tr>\n",
       "            <th>sql</th>\n",
       "        </tr>\n",
       "    </thead>\n",
       "    <tbody>\n",
       "        <tr>\n",
       "            <td>CREATE TABLE facebook_event_checkin (<br>        person_id integer,<br>        event_id integer,<br>        event_name text,<br>        date integer,<br>        FOREIGN KEY (person_id) REFERENCES person(id)<br>    )</td>\n",
       "        </tr>\n",
       "    </tbody>\n",
       "</table>"
      ],
      "text/plain": [
       "+-------------------------------------------------------+\n",
       "|                          sql                          |\n",
       "+-------------------------------------------------------+\n",
       "|         CREATE TABLE facebook_event_checkin (         |\n",
       "|                       person_id integer,              |\n",
       "|                       event_id integer,               |\n",
       "|                        event_name text,               |\n",
       "|                         date integer,                 |\n",
       "|         FOREIGN KEY (person_id) REFERENCES person(id) |\n",
       "|                             )                         |\n",
       "+-------------------------------------------------------+"
      ]
     },
     "execution_count": 9,
     "metadata": {},
     "output_type": "execute_result"
    }
   ],
   "source": [
    "%%sql\n",
    "SELECT sql\n",
    "FROM sqlite_master\n",
    "where name = 'facebook_event_checkin'"
   ]
  },
  {
   "cell_type": "markdown",
   "id": "d9789bc7",
   "metadata": {},
   "source": [
    "\n",
    "### The rest is up to you!\n",
    "\n",
    "If you're really comfortable with SQL, you can probably get it from here. To help, here is the schema diagram:\n",
    "\n",
    "![schema diagram](schema.png)\n",
    "\n",
    "Use your knowledge of the database schema and SQL commands to find out who committed the murder.\n",
    "### Check your solution\n",
    "\n",
    "Did you find the killer? When you think you know the answer, submit your suspect using the following code and find out if you're right.\n"
   ]
  },
  {
   "cell_type": "markdown",
   "id": "5b481dd6",
   "metadata": {},
   "source": [
    "Find the total number of people"
   ]
  },
  {
   "cell_type": "code",
   "execution_count": 7,
   "id": "959bfa67",
   "metadata": {},
   "outputs": [
    {
     "data": {
      "text/html": [
       "<span style=\"None\">Running query in &#x27;sqlite:///sql-murder-mystery.db&#x27;</span>"
      ],
      "text/plain": [
       "Running query in 'sqlite:///sql-murder-mystery.db'"
      ]
     },
     "metadata": {},
     "output_type": "display_data"
    },
    {
     "data": {
      "text/html": [
       "<table>\n",
       "    <thead>\n",
       "        <tr>\n",
       "            <th>count(*)</th>\n",
       "        </tr>\n",
       "    </thead>\n",
       "    <tbody>\n",
       "        <tr>\n",
       "            <td>10011</td>\n",
       "        </tr>\n",
       "    </tbody>\n",
       "</table>"
      ],
      "text/plain": [
       "+----------+\n",
       "| count(*) |\n",
       "+----------+\n",
       "|  10011   |\n",
       "+----------+"
      ]
     },
     "execution_count": 7,
     "metadata": {},
     "output_type": "execute_result"
    }
   ],
   "source": [
    "%%sql\n",
    "SELECT count(*)\n",
    "FROM person;"
   ]
  },
  {
   "cell_type": "code",
   "execution_count": 10,
   "id": "e862aa25",
   "metadata": {},
   "outputs": [
    {
     "data": {
      "text/html": [
       "<span style=\"None\">Running query in &#x27;sqlite:///sql-murder-mystery.db&#x27;</span>"
      ],
      "text/plain": [
       "Running query in 'sqlite:///sql-murder-mystery.db'"
      ]
     },
     "metadata": {},
     "output_type": "display_data"
    },
    {
     "data": {
      "text/html": [
       "<table>\n",
       "    <thead>\n",
       "        <tr>\n",
       "            <th>id</th>\n",
       "            <th>name</th>\n",
       "            <th>license_id</th>\n",
       "            <th>address_number</th>\n",
       "            <th>address_street_name</th>\n",
       "            <th>ssn</th>\n",
       "        </tr>\n",
       "    </thead>\n",
       "    <tbody>\n",
       "        <tr>\n",
       "            <td>10000</td>\n",
       "            <td>Christoper Peteuil</td>\n",
       "            <td>993845</td>\n",
       "            <td>624</td>\n",
       "            <td>Bankhall Ave</td>\n",
       "            <td>747714076</td>\n",
       "        </tr>\n",
       "        <tr>\n",
       "            <td>10007</td>\n",
       "            <td>Kourtney Calderwood</td>\n",
       "            <td>861794</td>\n",
       "            <td>2791</td>\n",
       "            <td>Gustavus Blvd</td>\n",
       "            <td>477972044</td>\n",
       "        </tr>\n",
       "        <tr>\n",
       "            <td>10010</td>\n",
       "            <td>Muoi Cary</td>\n",
       "            <td>385336</td>\n",
       "            <td>741</td>\n",
       "            <td>Northwestern Dr</td>\n",
       "            <td>828638512</td>\n",
       "        </tr>\n",
       "        <tr>\n",
       "            <td>10016</td>\n",
       "            <td>Era Moselle</td>\n",
       "            <td>431897</td>\n",
       "            <td>1987</td>\n",
       "            <td>Wood Glade St</td>\n",
       "            <td>614621061</td>\n",
       "        </tr>\n",
       "        <tr>\n",
       "            <td>10025</td>\n",
       "            <td>Trena Hornby</td>\n",
       "            <td>550890</td>\n",
       "            <td>276</td>\n",
       "            <td>Daws Hill Way</td>\n",
       "            <td>223877684</td>\n",
       "        </tr>\n",
       "        <tr>\n",
       "            <td>10027</td>\n",
       "            <td>Antione Godbolt</td>\n",
       "            <td>439509</td>\n",
       "            <td>2431</td>\n",
       "            <td>Zelham Dr</td>\n",
       "            <td>491650087</td>\n",
       "        </tr>\n",
       "        <tr>\n",
       "            <td>10034</td>\n",
       "            <td>Kyra Buen</td>\n",
       "            <td>920494</td>\n",
       "            <td>1873</td>\n",
       "            <td>Sleigh Dr</td>\n",
       "            <td>332497972</td>\n",
       "        </tr>\n",
       "        <tr>\n",
       "            <td>10039</td>\n",
       "            <td>Francesco Agundez</td>\n",
       "            <td>278151</td>\n",
       "            <td>736</td>\n",
       "            <td>Buswell Dr</td>\n",
       "            <td>861079251</td>\n",
       "        </tr>\n",
       "        <tr>\n",
       "            <td>10095</td>\n",
       "            <td>Leslie Thate</td>\n",
       "            <td>729987</td>\n",
       "            <td>2772</td>\n",
       "            <td>Camellia Park Circle</td>\n",
       "            <td>127944356</td>\n",
       "        </tr>\n",
       "        <tr>\n",
       "            <td>10122</td>\n",
       "            <td>Alva Conkel</td>\n",
       "            <td>779002</td>\n",
       "            <td>116</td>\n",
       "            <td>Diversey Circle</td>\n",
       "            <td>148521773</td>\n",
       "        </tr>\n",
       "    </tbody>\n",
       "</table>\n",
       "<span style=\"font-style:italic;text-align:center;\">Truncated to <a href=\"https://jupysql.ploomber.io/en/latest/api/configuration.html#displaylimit\">displaylimit</a> of 10.</span>"
      ],
      "text/plain": [
       "+-------+---------------------+------------+----------------+----------------------+-----------+\n",
       "|   id  |         name        | license_id | address_number | address_street_name  |    ssn    |\n",
       "+-------+---------------------+------------+----------------+----------------------+-----------+\n",
       "| 10000 |  Christoper Peteuil |   993845   |      624       |     Bankhall Ave     | 747714076 |\n",
       "| 10007 | Kourtney Calderwood |   861794   |      2791      |    Gustavus Blvd     | 477972044 |\n",
       "| 10010 |      Muoi Cary      |   385336   |      741       |   Northwestern Dr    | 828638512 |\n",
       "| 10016 |     Era Moselle     |   431897   |      1987      |    Wood Glade St     | 614621061 |\n",
       "| 10025 |     Trena Hornby    |   550890   |      276       |    Daws Hill Way     | 223877684 |\n",
       "| 10027 |   Antione Godbolt   |   439509   |      2431      |      Zelham Dr       | 491650087 |\n",
       "| 10034 |      Kyra Buen      |   920494   |      1873      |      Sleigh Dr       | 332497972 |\n",
       "| 10039 |  Francesco Agundez  |   278151   |      736       |      Buswell Dr      | 861079251 |\n",
       "| 10095 |     Leslie Thate    |   729987   |      2772      | Camellia Park Circle | 127944356 |\n",
       "| 10122 |     Alva Conkel     |   779002   |      116       |   Diversey Circle    | 148521773 |\n",
       "+-------+---------------------+------------+----------------+----------------------+-----------+\n",
       "Truncated to displaylimit of 10."
      ]
     },
     "execution_count": 10,
     "metadata": {},
     "output_type": "execute_result"
    }
   ],
   "source": [
    "%%sql\n",
    "SELECT * FROM person LIMIT 10;"
   ]
  },
  {
   "cell_type": "markdown",
   "id": "4f7a4864",
   "metadata": {},
   "source": [
    "Get the top 10 lines of person"
   ]
  },
  {
   "cell_type": "code",
   "execution_count": 12,
   "id": "beffdd42",
   "metadata": {},
   "outputs": [
    {
     "data": {
      "text/html": [
       "<span style=\"None\">Running query in &#x27;sqlite:///sql-murder-mystery.db&#x27;</span>"
      ],
      "text/plain": [
       "Running query in 'sqlite:///sql-murder-mystery.db'"
      ]
     },
     "metadata": {},
     "output_type": "display_data"
    },
    {
     "data": {
      "text/html": [
       "<table>\n",
       "    <thead>\n",
       "        <tr>\n",
       "            <th>person_id</th>\n",
       "            <th>event_id</th>\n",
       "            <th>event_name</th>\n",
       "            <th>date</th>\n",
       "        </tr>\n",
       "    </thead>\n",
       "    <tbody>\n",
       "        <tr>\n",
       "            <td>28508</td>\n",
       "            <td>5880</td>\n",
       "            <td>Nudists are people who wear one-button suits.<br></td>\n",
       "            <td>20170913</td>\n",
       "        </tr>\n",
       "        <tr>\n",
       "            <td>63713</td>\n",
       "            <td>3865</td>\n",
       "            <td>but that's because it's the best book on anything for the layman.<br></td>\n",
       "            <td>20171009</td>\n",
       "        </tr>\n",
       "        <tr>\n",
       "            <td>63713</td>\n",
       "            <td>3999</td>\n",
       "            <td>&nbsp;&nbsp;&nbsp;&nbsp;&nbsp;&nbsp;&nbsp;&nbsp;If Murphy's Law can go wrong, it will.<br></td>\n",
       "            <td>20170502</td>\n",
       "        </tr>\n",
       "        <tr>\n",
       "            <td>63713</td>\n",
       "            <td>6436</td>\n",
       "            <td>Old programmers never die.  They just branch to a new address.<br></td>\n",
       "            <td>20170926</td>\n",
       "        </tr>\n",
       "        <tr>\n",
       "            <td>82998</td>\n",
       "            <td>4470</td>\n",
       "            <td>Help a swallow land at Capistrano.<br></td>\n",
       "            <td>20171022</td>\n",
       "        </tr>\n",
       "        <tr>\n",
       "            <td>82998</td>\n",
       "            <td>6186</td>\n",
       "            <td>Good day to let down old friends who need help.<br></td>\n",
       "            <td>20170921</td>\n",
       "        </tr>\n",
       "        <tr>\n",
       "            <td>82998</td>\n",
       "            <td>7364</td>\n",
       "            <td>&nbsp;&nbsp;&nbsp;&nbsp;&nbsp;&nbsp;&nbsp;&nbsp;Among economists, the real world is often a special case.<br></td>\n",
       "            <td>20170320</td>\n",
       "        </tr>\n",
       "        <tr>\n",
       "            <td>31811</td>\n",
       "            <td>8542</td>\n",
       "            <td>&nbsp;&nbsp;&nbsp;&nbsp;&nbsp;&nbsp;&nbsp;&nbsp;&nbsp;&nbsp;&nbsp;&nbsp;&nbsp;&nbsp;&nbsp;&nbsp;-- Herbert Prochnow<br></td>\n",
       "            <td>20171203</td>\n",
       "        </tr>\n",
       "        <tr>\n",
       "            <td>31811</td>\n",
       "            <td>4387</td>\n",
       "            <td>The Pig, if I am not mistaken,<br></td>\n",
       "            <td>20180106</td>\n",
       "        </tr>\n",
       "        <tr>\n",
       "            <td>61201</td>\n",
       "            <td>9621</td>\n",
       "            <td>responsibility at the other.<br></td>\n",
       "            <td>20180418</td>\n",
       "        </tr>\n",
       "    </tbody>\n",
       "</table>\n",
       "<span style=\"font-style:italic;text-align:center;\">Truncated to <a href=\"https://jupysql.ploomber.io/en/latest/api/configuration.html#displaylimit\">displaylimit</a> of 10.</span>"
      ],
      "text/plain": [
       "+-----------+----------+-------------------------------------------------------------------+----------+\n",
       "| person_id | event_id |                             event_name                            |   date   |\n",
       "+-----------+----------+-------------------------------------------------------------------+----------+\n",
       "|   28508   |   5880   |           Nudists are people who wear one-button suits.           | 20170913 |\n",
       "|           |          |                                                                   |          |\n",
       "|   63713   |   3865   | but that's because it's the best book on anything for the layman. | 20171009 |\n",
       "|           |          |                                                                   |          |\n",
       "|   63713   |   3999   |                   If Murphy's Law can go wrong, it will.          | 20170502 |\n",
       "|           |          |                                                                   |          |\n",
       "|   63713   |   6436   |   Old programmers never die.  They just branch to a new address.  | 20170926 |\n",
       "|           |          |                                                                   |          |\n",
       "|   82998   |   4470   |                 Help a swallow land at Capistrano.                | 20171022 |\n",
       "|           |          |                                                                   |          |\n",
       "|   82998   |   6186   |          Good day to let down old friends who need help.          | 20170921 |\n",
       "|           |          |                                                                   |          |\n",
       "|   82998   |   7364   |         Among economists, the real world is often a special case. | 20170320 |\n",
       "|           |          |                                                                   |          |\n",
       "|   31811   |   8542   |                                -- Herbert Prochnow                | 20171203 |\n",
       "|           |          |                                                                   |          |\n",
       "|   31811   |   4387   |                   The Pig, if I am not mistaken,                  | 20180106 |\n",
       "|           |          |                                                                   |          |\n",
       "|   61201   |   9621   |                    responsibility at the other.                   | 20180418 |\n",
       "|           |          |                                                                   |          |\n",
       "+-----------+----------+-------------------------------------------------------------------+----------+\n",
       "Truncated to displaylimit of 10."
      ]
     },
     "execution_count": 12,
     "metadata": {},
     "output_type": "execute_result"
    }
   ],
   "source": [
    "%%sql\n",
    "SELECT * FROM facebook_event_checkin LIMIT 10;"
   ]
  },
  {
   "cell_type": "code",
   "execution_count": 11,
   "id": "5d586c71",
   "metadata": {},
   "outputs": [
    {
     "data": {
      "text/html": [
       "<span style=\"None\">Running query in &#x27;sqlite:///sql-murder-mystery.db&#x27;</span>"
      ],
      "text/plain": [
       "Running query in 'sqlite:///sql-murder-mystery.db'"
      ]
     },
     "metadata": {},
     "output_type": "display_data"
    },
    {
     "data": {
      "text/html": [
       "<table>\n",
       "    <thead>\n",
       "        <tr>\n",
       "            <th>type</th>\n",
       "        </tr>\n",
       "    </thead>\n",
       "    <tbody>\n",
       "        <tr>\n",
       "            <td>robbery</td>\n",
       "        </tr>\n",
       "        <tr>\n",
       "            <td>murder</td>\n",
       "        </tr>\n",
       "        <tr>\n",
       "            <td>theft</td>\n",
       "        </tr>\n",
       "        <tr>\n",
       "            <td>fraud</td>\n",
       "        </tr>\n",
       "        <tr>\n",
       "            <td>arson</td>\n",
       "        </tr>\n",
       "        <tr>\n",
       "            <td>bribery</td>\n",
       "        </tr>\n",
       "        <tr>\n",
       "            <td>assault</td>\n",
       "        </tr>\n",
       "        <tr>\n",
       "            <td>smuggling</td>\n",
       "        </tr>\n",
       "        <tr>\n",
       "            <td>blackmail</td>\n",
       "        </tr>\n",
       "    </tbody>\n",
       "</table>"
      ],
      "text/plain": [
       "+-----------+\n",
       "|    type   |\n",
       "+-----------+\n",
       "|  robbery  |\n",
       "|   murder  |\n",
       "|   theft   |\n",
       "|   fraud   |\n",
       "|   arson   |\n",
       "|  bribery  |\n",
       "|  assault  |\n",
       "| smuggling |\n",
       "| blackmail |\n",
       "+-----------+"
      ]
     },
     "execution_count": 11,
     "metadata": {},
     "output_type": "execute_result"
    }
   ],
   "source": [
    "%%sql\n",
    "SELECT DISTINCT type FROM crime_scene_report;"
   ]
  },
  {
   "cell_type": "markdown",
   "id": "710bc186",
   "metadata": {},
   "source": [
    "Find different values of type from crime_scene_report"
   ]
  },
  {
   "cell_type": "code",
   "execution_count": 16,
   "id": "bdd620df",
   "metadata": {},
   "outputs": [
    {
     "data": {
      "text/html": [
       "<span style=\"None\">Running query in &#x27;sqlite:///sql-murder-mystery.db&#x27;</span>"
      ],
      "text/plain": [
       "Running query in 'sqlite:///sql-murder-mystery.db'"
      ]
     },
     "metadata": {},
     "output_type": "display_data"
    },
    {
     "data": {
      "text/html": [
       "<table>\n",
       "    <thead>\n",
       "        <tr>\n",
       "            <th>date</th>\n",
       "            <th>type</th>\n",
       "            <th>description</th>\n",
       "            <th>city</th>\n",
       "        </tr>\n",
       "    </thead>\n",
       "    <tbody>\n",
       "        <tr>\n",
       "            <td>20180115</td>\n",
       "            <td>murder</td>\n",
       "            <td>Security footage shows that there were 2 witnesses. The first witness lives at the last house on \"Northwestern Dr\". The second witness, named Annabel, lives somewhere on \"Franklin Ave\".</td>\n",
       "            <td>SQL City</td>\n",
       "        </tr>\n",
       "    </tbody>\n",
       "</table>"
      ],
      "text/plain": [
       "+----------+--------+-------------------------------------------------------------------------------------------------------------------------------------------------------------------------------------------+----------+\n",
       "|   date   |  type  |                                                                                        description                                                                                        |   city   |\n",
       "+----------+--------+-------------------------------------------------------------------------------------------------------------------------------------------------------------------------------------------+----------+\n",
       "| 20180115 | murder | Security footage shows that there were 2 witnesses. The first witness lives at the last house on \"Northwestern Dr\". The second witness, named Annabel, lives somewhere on \"Franklin Ave\". | SQL City |\n",
       "+----------+--------+-------------------------------------------------------------------------------------------------------------------------------------------------------------------------------------------+----------+"
      ]
     },
     "execution_count": 16,
     "metadata": {},
     "output_type": "execute_result"
    }
   ],
   "source": [
    "%%sql\n",
    "SELECT * FROM crime_scene_report \n",
    "WHERE type = 'murder' \n",
    "AND city = 'SQL City'\n",
    "AND date = 20180115;"
   ]
  },
  {
   "cell_type": "markdown",
   "id": "f1102ff3",
   "metadata": {},
   "source": [
    "Find out what murder occured on 1/15/18"
   ]
  },
  {
   "cell_type": "code",
   "execution_count": 17,
   "id": "c9e9067a",
   "metadata": {},
   "outputs": [
    {
     "data": {
      "text/html": [
       "<span style=\"None\">Running query in &#x27;sqlite:///sql-murder-mystery.db&#x27;</span>"
      ],
      "text/plain": [
       "Running query in 'sqlite:///sql-murder-mystery.db'"
      ]
     },
     "metadata": {},
     "output_type": "display_data"
    },
    {
     "data": {
      "text/html": [
       "<table>\n",
       "    <thead>\n",
       "        <tr>\n",
       "            <th>id</th>\n",
       "            <th>name</th>\n",
       "            <th>license_id</th>\n",
       "            <th>address_number</th>\n",
       "            <th>address_street_name</th>\n",
       "            <th>ssn</th>\n",
       "        </tr>\n",
       "    </thead>\n",
       "    <tbody>\n",
       "        <tr>\n",
       "            <td>14887</td>\n",
       "            <td>Morty Schapiro</td>\n",
       "            <td>118009</td>\n",
       "            <td>4919</td>\n",
       "            <td>Northwestern Dr</td>\n",
       "            <td>111564949</td>\n",
       "        </tr>\n",
       "    </tbody>\n",
       "</table>"
      ],
      "text/plain": [
       "+-------+----------------+------------+----------------+---------------------+-----------+\n",
       "|   id  |      name      | license_id | address_number | address_street_name |    ssn    |\n",
       "+-------+----------------+------------+----------------+---------------------+-----------+\n",
       "| 14887 | Morty Schapiro |   118009   |      4919      |   Northwestern Dr   | 111564949 |\n",
       "+-------+----------------+------------+----------------+---------------------+-----------+"
      ]
     },
     "execution_count": 17,
     "metadata": {},
     "output_type": "execute_result"
    }
   ],
   "source": [
    "%%sql\n",
    "SELECT * FROM person \n",
    "WHERE address_street_name = 'Northwestern Dr' \n",
    "ORDER BY address_number DESC LIMIT 1;"
   ]
  },
  {
   "cell_type": "markdown",
   "id": "94ee2cd8",
   "metadata": {},
   "source": [
    "Find out the name of the witness who lives on Northwestern Dr "
   ]
  },
  {
   "cell_type": "code",
   "execution_count": 20,
   "id": "6f709946",
   "metadata": {},
   "outputs": [
    {
     "data": {
      "text/html": [
       "<span style=\"None\">Running query in &#x27;sqlite:///sql-murder-mystery.db&#x27;</span>"
      ],
      "text/plain": [
       "Running query in 'sqlite:///sql-murder-mystery.db'"
      ]
     },
     "metadata": {},
     "output_type": "display_data"
    },
    {
     "data": {
      "text/html": [
       "<table>\n",
       "    <thead>\n",
       "        <tr>\n",
       "            <th>id</th>\n",
       "            <th>name</th>\n",
       "            <th>license_id</th>\n",
       "            <th>address_number</th>\n",
       "            <th>address_street_name</th>\n",
       "            <th>ssn</th>\n",
       "        </tr>\n",
       "    </thead>\n",
       "    <tbody>\n",
       "        <tr>\n",
       "            <td>16371</td>\n",
       "            <td>Annabel Miller</td>\n",
       "            <td>490173</td>\n",
       "            <td>103</td>\n",
       "            <td>Franklin Ave</td>\n",
       "            <td>318771143</td>\n",
       "        </tr>\n",
       "    </tbody>\n",
       "</table>"
      ],
      "text/plain": [
       "+-------+----------------+------------+----------------+---------------------+-----------+\n",
       "|   id  |      name      | license_id | address_number | address_street_name |    ssn    |\n",
       "+-------+----------------+------------+----------------+---------------------+-----------+\n",
       "| 16371 | Annabel Miller |   490173   |      103       |     Franklin Ave    | 318771143 |\n",
       "+-------+----------------+------------+----------------+---------------------+-----------+"
      ]
     },
     "execution_count": 20,
     "metadata": {},
     "output_type": "execute_result"
    }
   ],
   "source": [
    "%%sql\n",
    "SELECT * FROM person\n",
    "WHERE address_street_name = 'Franklin Ave'\n",
    "AND name like '%Annabel%';"
   ]
  },
  {
   "cell_type": "markdown",
   "id": "c3424ac5",
   "metadata": {},
   "source": [
    "Find out the name of the witness who lives on Franklin Ave"
   ]
  },
  {
   "cell_type": "code",
   "execution_count": 21,
   "id": "8b093bf3",
   "metadata": {},
   "outputs": [
    {
     "data": {
      "text/html": [
       "<span style=\"None\">Running query in &#x27;sqlite:///sql-murder-mystery.db&#x27;</span>"
      ],
      "text/plain": [
       "Running query in 'sqlite:///sql-murder-mystery.db'"
      ]
     },
     "metadata": {},
     "output_type": "display_data"
    },
    {
     "data": {
      "text/html": [
       "<table>\n",
       "    <thead>\n",
       "        <tr>\n",
       "            <th>name</th>\n",
       "            <th>transcript</th>\n",
       "        </tr>\n",
       "    </thead>\n",
       "    <tbody>\n",
       "        <tr>\n",
       "            <td>Morty Schapiro</td>\n",
       "            <td>I heard a gunshot and then saw a man run out. He had a \"Get Fit Now Gym\" bag. The membership number on the bag started with \"48Z\". Only gold members have those bags. The man got into a car with a plate that included \"H42W\".</td>\n",
       "        </tr>\n",
       "        <tr>\n",
       "            <td>Annabel Miller</td>\n",
       "            <td>I saw the murder happen, and I recognized the killer from my gym when I was working out last week on January the 9th.</td>\n",
       "        </tr>\n",
       "    </tbody>\n",
       "</table>"
      ],
      "text/plain": [
       "+----------------+---------------------------------------------------------------------------------------------------------------------------------------------------------------------------------------------------------------------------------+\n",
       "|      name      |                                                                                                            transcript                                                                                                           |\n",
       "+----------------+---------------------------------------------------------------------------------------------------------------------------------------------------------------------------------------------------------------------------------+\n",
       "| Morty Schapiro | I heard a gunshot and then saw a man run out. He had a \"Get Fit Now Gym\" bag. The membership number on the bag started with \"48Z\". Only gold members have those bags. The man got into a car with a plate that included \"H42W\". |\n",
       "| Annabel Miller |                                                      I saw the murder happen, and I recognized the killer from my gym when I was working out last week on January the 9th.                                                      |\n",
       "+----------------+---------------------------------------------------------------------------------------------------------------------------------------------------------------------------------------------------------------------------------+"
      ]
     },
     "execution_count": 21,
     "metadata": {},
     "output_type": "execute_result"
    }
   ],
   "source": [
    "%%sql\n",
    "SELECT person.name, interview.transcript\n",
    "FROM person JOIN interview\n",
    "ON person.id = interview.person_id\n",
    "WHERE person.id = 14887 OR person.id = 16371;"
   ]
  },
  {
   "cell_type": "markdown",
   "id": "59b7934b",
   "metadata": {},
   "source": [
    "Get the witness' interview statements to get more clues"
   ]
  },
  {
   "cell_type": "code",
   "execution_count": 27,
   "id": "3a84353d",
   "metadata": {},
   "outputs": [
    {
     "data": {
      "text/html": [
       "<span style=\"None\">Running query in &#x27;sqlite:///sql-murder-mystery.db&#x27;</span>"
      ],
      "text/plain": [
       "Running query in 'sqlite:///sql-murder-mystery.db'"
      ]
     },
     "metadata": {},
     "output_type": "display_data"
    },
    {
     "data": {
      "text/html": [
       "<table>\n",
       "    <thead>\n",
       "        <tr>\n",
       "            <th>id</th>\n",
       "            <th>person_id</th>\n",
       "            <th>name</th>\n",
       "            <th>membership_start_date</th>\n",
       "            <th>membership_status</th>\n",
       "        </tr>\n",
       "    </thead>\n",
       "    <tbody>\n",
       "        <tr>\n",
       "            <td>90081</td>\n",
       "            <td>16371</td>\n",
       "            <td>Annabel Miller</td>\n",
       "            <td>20160208</td>\n",
       "            <td>gold</td>\n",
       "        </tr>\n",
       "    </tbody>\n",
       "</table>"
      ],
      "text/plain": [
       "+-------+-----------+----------------+-----------------------+-------------------+\n",
       "|   id  | person_id |      name      | membership_start_date | membership_status |\n",
       "+-------+-----------+----------------+-----------------------+-------------------+\n",
       "| 90081 |   16371   | Annabel Miller |        20160208       |        gold       |\n",
       "+-------+-----------+----------------+-----------------------+-------------------+"
      ]
     },
     "execution_count": 27,
     "metadata": {},
     "output_type": "execute_result"
    }
   ],
   "source": [
    "%%sql\n",
    "SELECT * FROM get_fit_now_member\n",
    "WHERE name like '%Annabel%';"
   ]
  },
  {
   "cell_type": "markdown",
   "id": "c894707f",
   "metadata": {},
   "source": [
    "Get Annabel's id so we can figure out what time she went to the gym"
   ]
  },
  {
   "cell_type": "code",
   "execution_count": 29,
   "id": "8872b323",
   "metadata": {},
   "outputs": [
    {
     "data": {
      "text/html": [
       "<span style=\"None\">Running query in &#x27;sqlite:///sql-murder-mystery.db&#x27;</span>"
      ],
      "text/plain": [
       "Running query in 'sqlite:///sql-murder-mystery.db'"
      ]
     },
     "metadata": {},
     "output_type": "display_data"
    },
    {
     "data": {
      "text/html": [
       "<table>\n",
       "    <thead>\n",
       "        <tr>\n",
       "            <th>membership_id</th>\n",
       "            <th>check_in_date</th>\n",
       "            <th>check_in_time</th>\n",
       "            <th>check_out_time</th>\n",
       "        </tr>\n",
       "    </thead>\n",
       "    <tbody>\n",
       "        <tr>\n",
       "            <td>90081</td>\n",
       "            <td>20180109</td>\n",
       "            <td>1600</td>\n",
       "            <td>1700</td>\n",
       "        </tr>\n",
       "    </tbody>\n",
       "</table>"
      ],
      "text/plain": [
       "+---------------+---------------+---------------+----------------+\n",
       "| membership_id | check_in_date | check_in_time | check_out_time |\n",
       "+---------------+---------------+---------------+----------------+\n",
       "|     90081     |    20180109   |      1600     |      1700      |\n",
       "+---------------+---------------+---------------+----------------+"
      ]
     },
     "execution_count": 29,
     "metadata": {},
     "output_type": "execute_result"
    }
   ],
   "source": [
    "%%sql\n",
    "SELECT * FROM get_fit_now_check_in\n",
    "WHERE check_in_date = 20180109\n",
    "AND membership_id = 90081;"
   ]
  },
  {
   "cell_type": "markdown",
   "id": "42952f39",
   "metadata": {},
   "source": [
    "Got the time"
   ]
  },
  {
   "cell_type": "code",
   "execution_count": 24,
   "id": "ec679f48",
   "metadata": {},
   "outputs": [
    {
     "data": {
      "text/html": [
       "<span style=\"None\">Running query in &#x27;sqlite:///sql-murder-mystery.db&#x27;</span>"
      ],
      "text/plain": [
       "Running query in 'sqlite:///sql-murder-mystery.db'"
      ]
     },
     "metadata": {},
     "output_type": "display_data"
    },
    {
     "data": {
      "text/html": [
       "<table>\n",
       "    <thead>\n",
       "        <tr>\n",
       "            <th>membership_id</th>\n",
       "            <th>check_in_date</th>\n",
       "            <th>check_in_time</th>\n",
       "            <th>check_out_time</th>\n",
       "        </tr>\n",
       "    </thead>\n",
       "    <tbody>\n",
       "        <tr>\n",
       "            <td>48Z7A</td>\n",
       "            <td>20180109</td>\n",
       "            <td>1600</td>\n",
       "            <td>1730</td>\n",
       "        </tr>\n",
       "        <tr>\n",
       "            <td>48Z55</td>\n",
       "            <td>20180109</td>\n",
       "            <td>1530</td>\n",
       "            <td>1700</td>\n",
       "        </tr>\n",
       "    </tbody>\n",
       "</table>"
      ],
      "text/plain": [
       "+---------------+---------------+---------------+----------------+\n",
       "| membership_id | check_in_date | check_in_time | check_out_time |\n",
       "+---------------+---------------+---------------+----------------+\n",
       "|     48Z7A     |    20180109   |      1600     |      1730      |\n",
       "|     48Z55     |    20180109   |      1530     |      1700      |\n",
       "+---------------+---------------+---------------+----------------+"
      ]
     },
     "execution_count": 24,
     "metadata": {},
     "output_type": "execute_result"
    }
   ],
   "source": [
    "%%sql\n",
    "SELECT * FROM get_fit_now_check_in\n",
    "WHERE check_in_date = 20180109\n",
    "AND membership_id like '%48Z%';"
   ]
  },
  {
   "cell_type": "markdown",
   "id": "0552bd74",
   "metadata": {},
   "source": [
    "Both members with the 48Z ID that came in on 1/9/18 came around the same time as Annabel so either person could be the main suspect. We should check which one of the members has a gold status membership next"
   ]
  },
  {
   "cell_type": "code",
   "execution_count": 30,
   "id": "7c8db52b",
   "metadata": {},
   "outputs": [
    {
     "data": {
      "text/html": [
       "<span style=\"None\">Running query in &#x27;sqlite:///sql-murder-mystery.db&#x27;</span>"
      ],
      "text/plain": [
       "Running query in 'sqlite:///sql-murder-mystery.db'"
      ]
     },
     "metadata": {},
     "output_type": "display_data"
    },
    {
     "data": {
      "text/html": [
       "<table>\n",
       "    <thead>\n",
       "        <tr>\n",
       "            <th>id</th>\n",
       "            <th>person_id</th>\n",
       "            <th>name</th>\n",
       "            <th>membership_start_date</th>\n",
       "            <th>membership_status</th>\n",
       "        </tr>\n",
       "    </thead>\n",
       "    <tbody>\n",
       "        <tr>\n",
       "            <td>48Z38</td>\n",
       "            <td>49550</td>\n",
       "            <td>Tomas Baisley</td>\n",
       "            <td>20170203</td>\n",
       "            <td>silver</td>\n",
       "        </tr>\n",
       "        <tr>\n",
       "            <td>48Z7A</td>\n",
       "            <td>28819</td>\n",
       "            <td>Joe Germuska</td>\n",
       "            <td>20160305</td>\n",
       "            <td>gold</td>\n",
       "        </tr>\n",
       "        <tr>\n",
       "            <td>48Z55</td>\n",
       "            <td>67318</td>\n",
       "            <td>Jeremy Bowers</td>\n",
       "            <td>20160101</td>\n",
       "            <td>gold</td>\n",
       "        </tr>\n",
       "    </tbody>\n",
       "</table>"
      ],
      "text/plain": [
       "+-------+-----------+---------------+-----------------------+-------------------+\n",
       "|   id  | person_id |      name     | membership_start_date | membership_status |\n",
       "+-------+-----------+---------------+-----------------------+-------------------+\n",
       "| 48Z38 |   49550   | Tomas Baisley |        20170203       |       silver      |\n",
       "| 48Z7A |   28819   |  Joe Germuska |        20160305       |        gold       |\n",
       "| 48Z55 |   67318   | Jeremy Bowers |        20160101       |        gold       |\n",
       "+-------+-----------+---------------+-----------------------+-------------------+"
      ]
     },
     "execution_count": 30,
     "metadata": {},
     "output_type": "execute_result"
    }
   ],
   "source": [
    "%%sql\n",
    "SELECT * FROM get_fit_now_member\n",
    "WHERE id like '%48Z%';"
   ]
  },
  {
   "cell_type": "markdown",
   "id": "8b74f23b",
   "metadata": {},
   "source": [
    "Unfortunately both members with id: 48Z55 and 48Z7A have gold membership so we still don't know which one of them is the murderer. Let's try to do the license plate thing instead."
   ]
  },
  {
   "cell_type": "code",
   "execution_count": 33,
   "id": "a74f9b51",
   "metadata": {},
   "outputs": [
    {
     "ename": "SyntaxError",
     "evalue": "invalid syntax (655963111.py, line 2)",
     "output_type": "error",
     "traceback": [
      "  \u001b[36mCell\u001b[39m\u001b[36m \u001b[39m\u001b[32mIn[33]\u001b[39m\u001b[32m, line 2\u001b[39m\n\u001b[31m    \u001b[39m\u001b[31mSELECT * FROM drivers_license\u001b[39m\n                  ^\n\u001b[31mSyntaxError\u001b[39m\u001b[31m:\u001b[39m invalid syntax\n"
     ]
    }
   ],
   "source": [
    "%sql\n",
    "SELECT * FROM drivers_license \n",
    "WHERE plate_number like '%H42W%';"
   ]
  },
  {
   "cell_type": "code",
   "execution_count": 35,
   "id": "34dc300d",
   "metadata": {},
   "outputs": [
    {
     "data": {
      "text/html": [
       "<span style=\"None\">Running query in &#x27;sqlite:///sql-murder-mystery.db&#x27;</span>"
      ],
      "text/plain": [
       "Running query in 'sqlite:///sql-murder-mystery.db'"
      ]
     },
     "metadata": {},
     "output_type": "display_data"
    },
    {
     "data": {
      "text/html": [
       "<table>\n",
       "    <thead>\n",
       "        <tr>\n",
       "            <th>id</th>\n",
       "            <th>age</th>\n",
       "            <th>height</th>\n",
       "            <th>eye_color</th>\n",
       "            <th>hair_color</th>\n",
       "            <th>gender</th>\n",
       "            <th>plate_number</th>\n",
       "            <th>car_make</th>\n",
       "            <th>car_model</th>\n",
       "        </tr>\n",
       "    </thead>\n",
       "    <tbody>\n",
       "        <tr>\n",
       "            <td>183779</td>\n",
       "            <td>21</td>\n",
       "            <td>65</td>\n",
       "            <td>blue</td>\n",
       "            <td>blonde</td>\n",
       "            <td>female</td>\n",
       "            <td>H42W0X</td>\n",
       "            <td>Toyota</td>\n",
       "            <td>Prius</td>\n",
       "        </tr>\n",
       "        <tr>\n",
       "            <td>423327</td>\n",
       "            <td>30</td>\n",
       "            <td>70</td>\n",
       "            <td>brown</td>\n",
       "            <td>brown</td>\n",
       "            <td>male</td>\n",
       "            <td>0H42W2</td>\n",
       "            <td>Chevrolet</td>\n",
       "            <td>Spark LS</td>\n",
       "        </tr>\n",
       "        <tr>\n",
       "            <td>664760</td>\n",
       "            <td>21</td>\n",
       "            <td>71</td>\n",
       "            <td>black</td>\n",
       "            <td>black</td>\n",
       "            <td>male</td>\n",
       "            <td>4H42WR</td>\n",
       "            <td>Nissan</td>\n",
       "            <td>Altima</td>\n",
       "        </tr>\n",
       "    </tbody>\n",
       "</table>"
      ],
      "text/plain": [
       "+--------+-----+--------+-----------+------------+--------+--------------+-----------+-----------+\n",
       "|   id   | age | height | eye_color | hair_color | gender | plate_number |  car_make | car_model |\n",
       "+--------+-----+--------+-----------+------------+--------+--------------+-----------+-----------+\n",
       "| 183779 |  21 |   65   |    blue   |   blonde   | female |    H42W0X    |   Toyota  |   Prius   |\n",
       "| 423327 |  30 |   70   |   brown   |   brown    |  male  |    0H42W2    | Chevrolet |  Spark LS |\n",
       "| 664760 |  21 |   71   |   black   |   black    |  male  |    4H42WR    |   Nissan  |   Altima  |\n",
       "+--------+-----+--------+-----------+------------+--------+--------------+-----------+-----------+"
      ]
     },
     "execution_count": 35,
     "metadata": {},
     "output_type": "execute_result"
    }
   ],
   "source": [
    "%%sql\n",
    "SELECT * FROM drivers_license WHERE plate_number like '%H42W%';"
   ]
  },
  {
   "cell_type": "code",
   "execution_count": null,
   "id": "af02dd98",
   "metadata": {},
   "outputs": [
    {
     "data": {
      "text/html": [
       "<span style=\"None\">Running query in &#x27;sqlite:///sql-murder-mystery.db&#x27;</span>"
      ],
      "text/plain": [
       "Running query in 'sqlite:///sql-murder-mystery.db'"
      ]
     },
     "metadata": {},
     "output_type": "display_data"
    },
    {
     "data": {
      "text/html": [
       "<table>\n",
       "    <thead>\n",
       "        <tr>\n",
       "            <th>name</th>\n",
       "        </tr>\n",
       "    </thead>\n",
       "    <tbody>\n",
       "        <tr>\n",
       "            <td>Tushar Chandra</td>\n",
       "        </tr>\n",
       "        <tr>\n",
       "            <td>Jeremy Bowers</td>\n",
       "        </tr>\n",
       "        <tr>\n",
       "            <td>Maxine Whitely</td>\n",
       "        </tr>\n",
       "    </tbody>\n",
       "</table>"
      ],
      "text/plain": [
       "+----------------+\n",
       "|      name      |\n",
       "+----------------+\n",
       "| Tushar Chandra |\n",
       "| Jeremy Bowers  |\n",
       "| Maxine Whitely |\n",
       "+----------------+"
      ]
     },
     "execution_count": 41,
     "metadata": {},
     "output_type": "execute_result"
    }
   ],
   "source": [
    "%%sql\n",
    "SELECT person.name FROM person JOIN drivers_license\n",
    "ON person.license_id = drivers_license.id\n",
    "WHERE drivers_license.plate_number like '%H42W%';"
   ]
  },
  {
   "cell_type": "code",
   "execution_count": 43,
   "id": "d13c25b5",
   "metadata": {},
   "outputs": [
    {
     "data": {
      "text/html": [
       "<span style=\"None\">Running query in &#x27;sqlite:///sql-murder-mystery.db&#x27;</span>"
      ],
      "text/plain": [
       "Running query in 'sqlite:///sql-murder-mystery.db'"
      ]
     },
     "metadata": {},
     "output_type": "display_data"
    },
    {
     "data": {
      "text/html": [
       "<table>\n",
       "    <thead>\n",
       "        <tr>\n",
       "            <th>name</th>\n",
       "        </tr>\n",
       "    </thead>\n",
       "    <tbody>\n",
       "        <tr>\n",
       "            <td>Jeremy Bowers</td>\n",
       "        </tr>\n",
       "    </tbody>\n",
       "</table>"
      ],
      "text/plain": [
       "+---------------+\n",
       "|      name     |\n",
       "+---------------+\n",
       "| Jeremy Bowers |\n",
       "+---------------+"
      ]
     },
     "execution_count": 43,
     "metadata": {},
     "output_type": "execute_result"
    }
   ],
   "source": [
    "%%sql\n",
    "\n",
    "SELECT get_fit_now_member.name FROM get_fit_now_member WHERE get_fit_now_member.id LIKE '%48Z%'\n",
    "AND get_fit_now_member.name IN (\n",
    "    SELECT person.name FROM person JOIN drivers_license\n",
    "    ON person.license_id = drivers_license.id\n",
    "    WHERE drivers_license.plate_number LIKE '%H42W%'\n",
    "    );"
   ]
  },
  {
   "cell_type": "code",
   "execution_count": null,
   "id": "647f8714",
   "metadata": {},
   "outputs": [],
   "source": []
  },
  {
   "cell_type": "code",
   "execution_count": null,
   "id": "225f7b48",
   "metadata": {},
   "outputs": [],
   "source": []
  },
  {
   "cell_type": "code",
   "execution_count": null,
   "id": "f57daec7",
   "metadata": {},
   "outputs": [],
   "source": []
  },
  {
   "cell_type": "code",
   "execution_count": null,
   "id": "c30ae0bc",
   "metadata": {},
   "outputs": [],
   "source": []
  },
  {
   "cell_type": "code",
   "execution_count": null,
   "id": "e1e975cf",
   "metadata": {},
   "outputs": [],
   "source": []
  },
  {
   "cell_type": "code",
   "execution_count": null,
   "id": "4db39fec",
   "metadata": {},
   "outputs": [],
   "source": []
  },
  {
   "cell_type": "code",
   "execution_count": null,
   "id": "ca884eee",
   "metadata": {},
   "outputs": [],
   "source": []
  },
  {
   "cell_type": "code",
   "execution_count": null,
   "id": "2359a186",
   "metadata": {},
   "outputs": [],
   "source": []
  },
  {
   "cell_type": "code",
   "execution_count": null,
   "id": "16f363b8",
   "metadata": {},
   "outputs": [],
   "source": []
  },
  {
   "cell_type": "code",
   "execution_count": null,
   "id": "0f9828f6",
   "metadata": {},
   "outputs": [],
   "source": []
  },
  {
   "cell_type": "code",
   "execution_count": null,
   "id": "21f01daf",
   "metadata": {},
   "outputs": [],
   "source": []
  },
  {
   "cell_type": "code",
   "execution_count": null,
   "id": "c3000ec4",
   "metadata": {},
   "outputs": [],
   "source": []
  },
  {
   "cell_type": "code",
   "execution_count": null,
   "id": "f406e03b",
   "metadata": {},
   "outputs": [],
   "source": []
  },
  {
   "cell_type": "code",
   "execution_count": null,
   "id": "61009261",
   "metadata": {},
   "outputs": [],
   "source": []
  },
  {
   "cell_type": "code",
   "execution_count": 44,
   "id": "830ea4a6",
   "metadata": {},
   "outputs": [
    {
     "data": {
      "text/html": [
       "<span style=\"None\">Running query in &#x27;sqlite:///sql-murder-mystery.db&#x27;</span>"
      ],
      "text/plain": [
       "Running query in 'sqlite:///sql-murder-mystery.db'"
      ]
     },
     "metadata": {},
     "output_type": "display_data"
    },
    {
     "data": {
      "text/html": [
       "<span style=\"color: green\">1 rows affected.</span>"
      ],
      "text/plain": [
       "1 rows affected."
      ]
     },
     "metadata": {},
     "output_type": "display_data"
    },
    {
     "data": {
      "text/html": [
       "<table>\n",
       "    <thead>\n",
       "        <tr>\n",
       "            <th>value</th>\n",
       "        </tr>\n",
       "    </thead>\n",
       "    <tbody>\n",
       "        <tr>\n",
       "            <td>Congrats, you found the murderer! But wait, there's more... If you think you're up for a challenge, try querying the interview transcript of the murderer to find the real villain behind this crime. If you feel especially confident in your SQL skills, try to complete this final step with no more than 2 queries. Use this same INSERT statement with your new suspect to check your answer.</td>\n",
       "        </tr>\n",
       "    </tbody>\n",
       "</table>"
      ],
      "text/plain": [
       "+----------------------------------------------------------------------------------------------------------------------------------------------------------------------------------------------------------------------------------------------------------------------------------------------------------------------------------------------------------------------------------------------------+\n",
       "|                                                                                                                                                                                               value                                                                                                                                                                                                |\n",
       "+----------------------------------------------------------------------------------------------------------------------------------------------------------------------------------------------------------------------------------------------------------------------------------------------------------------------------------------------------------------------------------------------------+\n",
       "| Congrats, you found the murderer! But wait, there's more... If you think you're up for a challenge, try querying the interview transcript of the murderer to find the real villain behind this crime. If you feel especially confident in your SQL skills, try to complete this final step with no more than 2 queries. Use this same INSERT statement with your new suspect to check your answer. |\n",
       "+----------------------------------------------------------------------------------------------------------------------------------------------------------------------------------------------------------------------------------------------------------------------------------------------------------------------------------------------------------------------------------------------------+"
      ]
     },
     "execution_count": 44,
     "metadata": {},
     "output_type": "execute_result"
    }
   ],
   "source": [
    "%%sql\n",
    "INSERT INTO solution VALUES (1, 'Jeremy Bowers');\n",
    "SELECT value FROM solution;"
   ]
  },
  {
   "cell_type": "code",
   "execution_count": null,
   "id": "284072e2",
   "metadata": {},
   "outputs": [],
   "source": []
  }
 ],
 "metadata": {
  "kernelspec": {
   "display_name": ".venv",
   "language": "python",
   "name": "python3"
  },
  "language_info": {
   "codemirror_mode": {
    "name": "ipython",
    "version": 3
   },
   "file_extension": ".py",
   "mimetype": "text/x-python",
   "name": "python",
   "nbconvert_exporter": "python",
   "pygments_lexer": "ipython3",
   "version": "3.13.3"
  }
 },
 "nbformat": 4,
 "nbformat_minor": 5
}
